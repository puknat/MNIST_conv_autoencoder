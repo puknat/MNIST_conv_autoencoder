{
 "cells": [
  {
   "cell_type": "markdown",
   "metadata": {},
   "source": [
    "# Convolutional Autoencoder for MNIST"
   ]
  },
  {
   "cell_type": "code",
   "execution_count": 1,
   "metadata": {},
   "outputs": [],
   "source": [
    "%matplotlib inline\n",
    "import tensorflow as tf\n",
    "import tensorflow.keras as keras\n",
    "import tensorflow.keras.layers as layers\n",
    "import tensorflow.keras.activations as activations\n",
    "from tensorflow.python.keras.models import Model\n",
    "import os\n",
    "import scipy\n",
    "from tqdm import tqdm\n",
    "import numpy as np\n",
    "import util\n",
    "from matplotlib import pyplot as plt"
   ]
  },
  {
   "cell_type": "markdown",
   "metadata": {},
   "source": [
    "## Some Helper Functions"
   ]
  },
  {
   "cell_type": "code",
   "execution_count": 2,
   "metadata": {},
   "outputs": [],
   "source": [
    "def show_image(img):\n",
    "    plt.figure()\n",
    "    plt.imshow(img)\n",
    "    plt.show()"
   ]
  },
  {
   "cell_type": "code",
   "execution_count": 3,
   "metadata": {},
   "outputs": [],
   "source": [
    "def show_side_by_side(img1, img2):\n",
    "    plt.figure()\n",
    "    plt.subplot(1, 2, 1)\n",
    "    plt.imshow(img1)\n",
    "    plt.subplot(1, 2, 2)\n",
    "    plt.imshow(img2)\n",
    "    plt.show()"
   ]
  },
  {
   "cell_type": "markdown",
   "metadata": {},
   "source": [
    "## The Dataset"
   ]
  },
  {
   "cell_type": "markdown",
   "metadata": {},
   "source": [
    "Loading the MNIST Dataset. Ignoring the y values, since they are not needed to train the autoencoder. "
   ]
  },
  {
   "cell_type": "code",
   "execution_count": 4,
   "metadata": {},
   "outputs": [],
   "source": [
    "from tensorflow.keras.datasets import mnist\n",
    "\n",
    "(x_train, _), (x_test, _) = mnist.load_data()"
   ]
  },
  {
   "cell_type": "markdown",
   "metadata": {},
   "source": [
    "There are 60,000 images of numbers with values ranging from 0 to 255."
   ]
  },
  {
   "cell_type": "code",
   "execution_count": 5,
   "metadata": {},
   "outputs": [
    {
     "name": "stdout",
     "output_type": "stream",
     "text": [
      "(60000, 28, 28)\n",
      "255\n",
      "0\n"
     ]
    },
    {
     "data": {
      "image/png": "[encoded data removed]",
      "text/plain": [
       "<Figure size 432x288 with 1 Axes>"
      ]
     },
     "metadata": {
      "needs_background": "light"
     },
     "output_type": "display_data"
    }
   ],
   "source": [
    "print(x_train.shape)\n",
    "print(np.max(x_train))\n",
    "print(np.min(x_train))\n",
    "\n",
    "show_image(x_train[0])"
   ]
  },
  {
   "cell_type": "markdown",
   "metadata": {},
   "source": [
    "Normalizing the dataset to values betweeen 0 and 1."
   ]
  },
  {
   "cell_type": "code",
   "execution_count": 6,
   "metadata": {},
   "outputs": [],
   "source": [
    "x_train = x_train / 255\n",
    "x_test = x_test / 255"
   ]
  },
  {
   "cell_type": "code",
   "execution_count": 7,
   "metadata": {},
   "outputs": [
    {
     "name": "stdout",
     "output_type": "stream",
     "text": [
      "(60000, 28, 28)\n",
      "1.0\n",
      "0.0\n"
     ]
    },
    {
     "data": {
      "image/png": "[encoded data removed]",
      "text/plain": [
       "<Figure size 432x288 with 1 Axes>"
      ]
     },
     "metadata": {
      "needs_background": "light"
     },
     "output_type": "display_data"
    }
   ],
   "source": [
    "print(x_train.shape)\n",
    "print(np.max(x_train))\n",
    "print(np.min(x_train))\n",
    "\n",
    "show_image(x_train[0])"
   ]
  },
  {
   "cell_type": "markdown",
   "metadata": {},
   "source": [
    "## The Model"
   ]
  },
  {
   "cell_type": "markdown",
   "metadata": {},
   "source": [
    "Defining some constants for later. Even if the memory permits it, do not use too large a BATCH_SIZE, that can decreas learning rate A LOT, probably connected to the effect obeserved here: https://arxiv.org/pdf/1609.04836.pdf."
   ]
  },
  {
   "cell_type": "code",
   "execution_count": 8,
   "metadata": {},
   "outputs": [],
   "source": [
    "LEARNING_RATE = 0.001\n",
    "BATCH_SIZE = 100\n",
    "EPOCHS = 100"
   ]
  },
  {
   "cell_type": "markdown",
   "metadata": {},
   "source": [
    "Building the Model of the autoencoder."
   ]
  },
  {
   "cell_type": "code",
   "execution_count": 9,
   "metadata": {},
   "outputs": [
    {
     "name": "stdout",
     "output_type": "stream",
     "text": [
      "_________________________________________________________________\n",
      "Layer (type)                 Output Shape              Param #   \n",
      "=================================================================\n",
      "input_1 (InputLayer)         (None, 28, 28)            0         \n",
      "_________________________________________________________________\n",
      "reshape (Reshape)            (None, 28, 28, 1)         0         \n",
      "_________________________________________________________________\n",
      "conv2d (Conv2D)              (None, 28, 28, 8)         80        \n",
      "_________________________________________________________________\n",
      "max_pooling2d (MaxPooling2D) (None, 14, 14, 8)         0         \n",
      "_________________________________________________________________\n",
      "conv2d_1 (Conv2D)            (None, 14, 14, 16)        1168      \n",
      "_________________________________________________________________\n",
      "max_pooling2d_1 (MaxPooling2 (None, 7, 7, 16)          0         \n",
      "_________________________________________________________________\n",
      "flatten (Flatten)            (None, 784)               0         \n",
      "_________________________________________________________________\n",
      "encoded (Dense)              (None, 128)               100480    \n",
      "_________________________________________________________________\n",
      "dense (Dense)                (None, 784)               101136    \n",
      "_________________________________________________________________\n",
      "reshape_1 (Reshape)          (None, 7, 7, 16)          0         \n",
      "_________________________________________________________________\n",
      "up_sampling2d (UpSampling2D) (None, 14, 14, 16)        0         \n",
      "_________________________________________________________________\n",
      "conv2d_2 (Conv2D)            (None, 14, 14, 8)         1160      \n",
      "_________________________________________________________________\n",
      "up_sampling2d_1 (UpSampling2 (None, 28, 28, 8)         0         \n",
      "_________________________________________________________________\n",
      "conv2d_3 (Conv2D)            (None, 28, 28, 1)         73        \n",
      "_________________________________________________________________\n",
      "reshape_2 (Reshape)          (None, 28, 28)            0         \n",
      "=================================================================\n",
      "Total params: 204,097\n",
      "Trainable params: 204,097\n",
      "Non-trainable params: 0\n",
      "_________________________________________________________________\n"
     ]
    }
   ],
   "source": [
    "input_layer = layers.Input(shape=(28,28))\n",
    "\n",
    "# This reshaping has to be done, to add the channel dimension, which is used and extended by the convolutional layers\n",
    "# It would also be possible to reshape the dataset beforehand\n",
    "x = layers.Reshape(target_shape=(28,28,1))(input_layer)\n",
    "\n",
    "# Encoder part of the autoencoder\n",
    "# Padding \"same\" is needed or the ouput would not be of size 28 by 28, but smaller\n",
    "# because the size of the input is not divisible by the kernal size\n",
    "x = layers.Conv2D(filters=8, kernel_size=3, padding=\"same\", activation=\"relu\")(x)\n",
    "x = layers.MaxPool2D(pool_size=(2, 2))(x) # Shape down to (14,14,8)\n",
    "x = layers.Conv2D(filters=16, kernel_size=3, padding=\"same\", activation=\"relu\")(x)\n",
    "x = layers.MaxPool2D(pool_size=(2, 2))(x) # Shape down to (7,7,16)\n",
    "x = layers.Flatten()(x) # Shape down to (784,)\n",
    "x = layers.Dense(128, activation=\"relu\", name=\"encoded\")(x)\n",
    "\n",
    "# Decoder part of the autoencoder\n",
    "x = layers.Dense(784, activation=\"relu\")(x)\n",
    "x = layers.Reshape(target_shape=(7,7,16))(x) # \"Reversing\" the Flatten layer\n",
    "x = layers.UpSampling2D(size=(2, 2))(x) # \"Reversing\" the MaxPool2D layer\n",
    "x = layers.Conv2D(8, kernel_size=3, padding=\"same\", activation=\"relu\")(x)\n",
    "x = layers.UpSampling2D(size=(2, 2))(x)\n",
    "x = layers.Conv2D(1, kernel_size=3, padding=\"same\", activation=\"relu\")(x)\n",
    "\n",
    "# Reversing the initial reshaping of the input\n",
    "output_layer =  layers.Reshape((28,28))(x)\n",
    "\n",
    "model = Model(input_layer, output_layer)\n",
    "\n",
    "model.summary()"
   ]
  },
  {
   "cell_type": "markdown",
   "metadata": {},
   "source": [
    "Defining the optimizer and loss function. Using the simple stochastic gradient decent optimizer and mean squared error loss. Also using momentum for faster convergence."
   ]
  },
  {
   "cell_type": "code",
   "execution_count": 10,
   "metadata": {},
   "outputs": [],
   "source": [
    "optimizer = keras.optimizers.SGD(lr=LEARNING_RATE, momentum=0.9)\n",
    "loss = keras.losses.mean_squared_error"
   ]
  },
  {
   "cell_type": "markdown",
   "metadata": {},
   "source": [
    "Compiling the model."
   ]
  },
  {
   "cell_type": "code",
   "execution_count": 11,
   "metadata": {},
   "outputs": [],
   "source": [
    "model.compile(optimizer=optimizer, loss=loss)"
   ]
  },
  {
   "cell_type": "markdown",
   "metadata": {},
   "source": [
    "Fitting the model to the data. The input and output data is the same, to teach the autoencoder to recover the original input."
   ]
  },
  {
   "cell_type": "code",
   "execution_count": 12,
   "metadata": {},
   "outputs": [
    {
     "name": "stdout",
     "output_type": "stream",
     "text": [
      "Train on 60000 samples, validate on 10000 samples\n",
      "Epoch 1/100\n",
      " - 7s - loss: 0.0910 - val_loss: 0.0834\n",
      "Epoch 2/100\n",
      " - 5s - loss: 0.0726 - val_loss: 0.0670\n",
      "Epoch 3/100\n",
      " - 5s - loss: 0.0646 - val_loss: 0.0629\n",
      "Epoch 4/100\n",
      " - 5s - loss: 0.0612 - val_loss: 0.0595\n",
      "Epoch 5/100\n",
      " - 5s - loss: 0.0578 - val_loss: 0.0560\n",
      "Epoch 6/100\n",
      " - 5s - loss: 0.0543 - val_loss: 0.0525\n",
      "Epoch 7/100\n",
      " - 5s - loss: 0.0510 - val_loss: 0.0492\n",
      "Epoch 8/100\n",
      " - 5s - loss: 0.0480 - val_loss: 0.0464\n",
      "Epoch 9/100\n",
      " - 5s - loss: 0.0454 - val_loss: 0.0439\n",
      "Epoch 10/100\n",
      " - 5s - loss: 0.0431 - val_loss: 0.0417\n",
      "Epoch 11/100\n",
      " - 5s - loss: 0.0411 - val_loss: 0.0398\n",
      "Epoch 12/100\n",
      " - 5s - loss: 0.0394 - val_loss: 0.0382\n",
      "Epoch 13/100\n",
      " - 5s - loss: 0.0380 - val_loss: 0.0368\n",
      "Epoch 14/100\n",
      " - 5s - loss: 0.0367 - val_loss: 0.0356\n",
      "Epoch 15/100\n",
      " - 5s - loss: 0.0355 - val_loss: 0.0345\n",
      "Epoch 16/100\n",
      " - 5s - loss: 0.0345 - val_loss: 0.0335\n",
      "Epoch 17/100\n",
      " - 5s - loss: 0.0335 - val_loss: 0.0326\n",
      "Epoch 18/100\n",
      " - 5s - loss: 0.0327 - val_loss: 0.0317\n",
      "Epoch 19/100\n",
      " - 5s - loss: 0.0319 - val_loss: 0.0310\n",
      "Epoch 20/100\n",
      " - 5s - loss: 0.0312 - val_loss: 0.0303\n",
      "Epoch 21/100\n",
      " - 5s - loss: 0.0305 - val_loss: 0.0296\n",
      "Epoch 22/100\n",
      " - 5s - loss: 0.0298 - val_loss: 0.0290\n",
      "Epoch 23/100\n",
      " - 5s - loss: 0.0292 - val_loss: 0.0284\n",
      "Epoch 24/100\n",
      " - 5s - loss: 0.0286 - val_loss: 0.0278\n",
      "Epoch 25/100\n",
      " - 5s - loss: 0.0281 - val_loss: 0.0273\n",
      "Epoch 26/100\n",
      " - 5s - loss: 0.0276 - val_loss: 0.0269\n",
      "Epoch 27/100\n",
      " - 5s - loss: 0.0272 - val_loss: 0.0264\n",
      "Epoch 28/100\n",
      " - 5s - loss: 0.0267 - val_loss: 0.0260\n",
      "Epoch 29/100\n",
      " - 6s - loss: 0.0263 - val_loss: 0.0256\n",
      "Epoch 30/100\n",
      " - 6s - loss: 0.0259 - val_loss: 0.0252\n",
      "Epoch 31/100\n",
      " - 5s - loss: 0.0256 - val_loss: 0.0249\n",
      "Epoch 32/100\n",
      " - 5s - loss: 0.0252 - val_loss: 0.0246\n",
      "Epoch 33/100\n",
      " - 5s - loss: 0.0249 - val_loss: 0.0242\n",
      "Epoch 34/100\n",
      " - 5s - loss: 0.0246 - val_loss: 0.0239\n",
      "Epoch 35/100\n",
      " - 5s - loss: 0.0243 - val_loss: 0.0236\n",
      "Epoch 36/100\n",
      " - 5s - loss: 0.0240 - val_loss: 0.0234\n",
      "Epoch 37/100\n",
      " - 5s - loss: 0.0237 - val_loss: 0.0231\n",
      "Epoch 38/100\n",
      " - 5s - loss: 0.0235 - val_loss: 0.0228\n",
      "Epoch 39/100\n",
      " - 5s - loss: 0.0232 - val_loss: 0.0226\n",
      "Epoch 40/100\n",
      " - 5s - loss: 0.0230 - val_loss: 0.0224\n",
      "Epoch 41/100\n",
      " - 5s - loss: 0.0228 - val_loss: 0.0221\n",
      "Epoch 42/100\n",
      " - 5s - loss: 0.0225 - val_loss: 0.0219\n",
      "Epoch 43/100\n",
      " - 5s - loss: 0.0223 - val_loss: 0.0217\n",
      "Epoch 44/100\n",
      " - 5s - loss: 0.0221 - val_loss: 0.0215\n",
      "Epoch 45/100\n",
      " - 5s - loss: 0.0219 - val_loss: 0.0213\n",
      "Epoch 46/100\n",
      " - 5s - loss: 0.0217 - val_loss: 0.0211\n",
      "Epoch 47/100\n",
      " - 5s - loss: 0.0216 - val_loss: 0.0210\n",
      "Epoch 48/100\n",
      " - 5s - loss: 0.0214 - val_loss: 0.0208\n",
      "Epoch 49/100\n",
      " - 5s - loss: 0.0212 - val_loss: 0.0206\n",
      "Epoch 50/100\n",
      " - 5s - loss: 0.0210 - val_loss: 0.0205\n",
      "Epoch 51/100\n",
      " - 5s - loss: 0.0209 - val_loss: 0.0203\n",
      "Epoch 52/100\n",
      " - 5s - loss: 0.0207 - val_loss: 0.0201\n",
      "Epoch 53/100\n",
      " - 5s - loss: 0.0206 - val_loss: 0.0200\n",
      "Epoch 54/100\n",
      " - 5s - loss: 0.0204 - val_loss: 0.0198\n",
      "Epoch 55/100\n",
      " - 5s - loss: 0.0203 - val_loss: 0.0197\n",
      "Epoch 56/100\n",
      " - 5s - loss: 0.0201 - val_loss: 0.0196\n",
      "Epoch 57/100\n",
      " - 5s - loss: 0.0200 - val_loss: 0.0194\n",
      "Epoch 58/100\n",
      " - 5s - loss: 0.0198 - val_loss: 0.0193\n",
      "Epoch 59/100\n",
      " - 5s - loss: 0.0197 - val_loss: 0.0192\n",
      "Epoch 60/100\n",
      " - 5s - loss: 0.0196 - val_loss: 0.0190\n",
      "Epoch 61/100\n",
      " - 5s - loss: 0.0194 - val_loss: 0.0189\n",
      "Epoch 62/100\n",
      " - 5s - loss: 0.0193 - val_loss: 0.0188\n",
      "Epoch 63/100\n",
      " - 5s - loss: 0.0192 - val_loss: 0.0187\n",
      "Epoch 64/100\n",
      " - 5s - loss: 0.0191 - val_loss: 0.0186\n",
      "Epoch 65/100\n",
      " - 5s - loss: 0.0190 - val_loss: 0.0185\n",
      "Epoch 66/100\n",
      " - 5s - loss: 0.0189 - val_loss: 0.0183\n",
      "Epoch 67/100\n",
      " - 5s - loss: 0.0188 - val_loss: 0.0182\n",
      "Epoch 68/100\n",
      " - 5s - loss: 0.0187 - val_loss: 0.0181\n",
      "Epoch 69/100\n",
      " - 5s - loss: 0.0186 - val_loss: 0.0180\n",
      "Epoch 70/100\n",
      " - 5s - loss: 0.0184 - val_loss: 0.0179\n",
      "Epoch 71/100\n",
      " - 5s - loss: 0.0184 - val_loss: 0.0178\n",
      "Epoch 72/100\n",
      " - 5s - loss: 0.0183 - val_loss: 0.0178\n",
      "Epoch 73/100\n",
      " - 5s - loss: 0.0182 - val_loss: 0.0177\n",
      "Epoch 74/100\n",
      " - 5s - loss: 0.0181 - val_loss: 0.0176\n",
      "Epoch 75/100\n",
      " - 5s - loss: 0.0180 - val_loss: 0.0175\n",
      "Epoch 76/100\n",
      " - 5s - loss: 0.0179 - val_loss: 0.0174\n",
      "Epoch 77/100\n",
      " - 5s - loss: 0.0178 - val_loss: 0.0173\n",
      "Epoch 78/100\n",
      " - 6s - loss: 0.0177 - val_loss: 0.0172\n",
      "Epoch 79/100\n",
      " - 5s - loss: 0.0176 - val_loss: 0.0171\n",
      "Epoch 80/100\n",
      " - 5s - loss: 0.0175 - val_loss: 0.0171\n",
      "Epoch 81/100\n",
      " - 5s - loss: 0.0175 - val_loss: 0.0170\n",
      "Epoch 82/100\n",
      " - 5s - loss: 0.0174 - val_loss: 0.0169\n",
      "Epoch 83/100\n",
      " - 5s - loss: 0.0173 - val_loss: 0.0168\n",
      "Epoch 84/100\n",
      " - 5s - loss: 0.0172 - val_loss: 0.0167\n",
      "Epoch 85/100\n",
      " - 5s - loss: 0.0171 - val_loss: 0.0167\n",
      "Epoch 86/100\n",
      " - 5s - loss: 0.0171 - val_loss: 0.0166\n",
      "Epoch 87/100\n",
      " - 5s - loss: 0.0170 - val_loss: 0.0165\n",
      "Epoch 88/100\n",
      " - 5s - loss: 0.0169 - val_loss: 0.0165\n",
      "Epoch 89/100\n",
      " - 5s - loss: 0.0169 - val_loss: 0.0164\n",
      "Epoch 90/100\n",
      " - 5s - loss: 0.0168 - val_loss: 0.0163\n",
      "Epoch 91/100\n",
      " - 5s - loss: 0.0167 - val_loss: 0.0163\n",
      "Epoch 92/100\n",
      " - 5s - loss: 0.0166 - val_loss: 0.0162\n",
      "Epoch 93/100\n",
      " - 5s - loss: 0.0166 - val_loss: 0.0161\n",
      "Epoch 94/100\n",
      " - 5s - loss: 0.0165 - val_loss: 0.0161\n",
      "Epoch 95/100\n",
      " - 5s - loss: 0.0164 - val_loss: 0.0160\n",
      "Epoch 96/100\n",
      " - 5s - loss: 0.0164 - val_loss: 0.0159\n",
      "Epoch 97/100\n",
      " - 5s - loss: 0.0163 - val_loss: 0.0159\n",
      "Epoch 98/100\n",
      " - 5s - loss: 0.0163 - val_loss: 0.0158\n",
      "Epoch 99/100\n",
      " - 5s - loss: 0.0162 - val_loss: 0.0157\n",
      "Epoch 100/100\n",
      " - 5s - loss: 0.0161 - val_loss: 0.0157\n"
     ]
    }
   ],
   "source": [
    "history = model.fit(x=x_train, y=x_train, batch_size=BATCH_SIZE, validation_data=(x_test, x_test), epochs=EPOCHS, shuffle=True, verbose=2, )"
   ]
  },
  {
   "cell_type": "markdown",
   "metadata": {},
   "source": [
    "## Visualizing the Results"
   ]
  },
  {
   "cell_type": "code",
   "execution_count": 13,
   "metadata": {},
   "outputs": [
    {
     "data": {
      "text/plain": [
       "dict_keys(['val_loss', 'loss'])"
      ]
     },
     "execution_count": 13,
     "metadata": {},
     "output_type": "execute_result"
    }
   ],
   "source": [
    "history.history.keys()"
   ]
  },
  {
   "cell_type": "code",
   "execution_count": 14,
   "metadata": {},
   "outputs": [
    {
     "data": {
      "image/png": "[encoded data removed]",
      "text/plain": [
       "<Figure size 432x288 with 1 Axes>"
      ]
     },
     "metadata": {
      "needs_background": "light"
     },
     "output_type": "display_data"
    }
   ],
   "source": [
    "plt.figure()\n",
    "plt.plot(history.history[\"val_loss\"])\n",
    "plt.xlabel(\"Epoch\")\n",
    "plt.ylabel(\"Validation Loss\")\n",
    "plt.show()"
   ]
  },
  {
   "cell_type": "markdown",
   "metadata": {},
   "source": [
    "Using the model on the complete test set."
   ]
  },
  {
   "cell_type": "code",
   "execution_count": 15,
   "metadata": {},
   "outputs": [],
   "source": [
    "results = model.predict(x_test)"
   ]
  },
  {
   "cell_type": "markdown",
   "metadata": {},
   "source": [
    "Visualizing some examples. On the left is the original image, on the right is the image recovered by the autoencoder."
   ]
  },
  {
   "cell_type": "code",
   "execution_count": null,
   "metadata": {},
   "outputs": [
    {
     "data": {
      "image/png": "[encoded data removed]",
      "text/plain": [
       "<Figure size 432x288 with 2 Axes>"
      ]
     },
     "metadata": {
      "needs_background": "light"
     },
     "output_type": "display_data"
    },
    {
     "data": {
      "image/png": "[encoded data removed]",
      "text/plain": [
       "<Figure size 432x288 with 2 Axes>"
      ]
     },
     "metadata": {
      "needs_background": "light"
     },
     "output_type": "display_data"
    },
    {
     "data": {
      "image/png": "[encoded data removed]",
      "text/plain": [
       "<Figure size 432x288 with 2 Axes>"
      ]
     },
     "metadata": {
      "needs_background": "light"
     },
     "output_type": "display_data"
    },
    {
     "data": {
      "image/png": "[encoded data removed]",
      "text/plain": [
       "<Figure size 432x288 with 2 Axes>"
      ]
     },
     "metadata": {
      "needs_background": "light"
     },
     "output_type": "display_data"
    },
    {
     "data": {
      "image/png": "[encoded data removed]",
      "text/plain": [
       "<Figure size 432x288 with 2 Axes>"
      ]
     },
     "metadata": {
      "needs_background": "light"
     },
     "output_type": "display_data"
    },
    {
     "data": {
      "image/png": "[encoded data removed]",
      "text/plain": [
       "<Figure size 432x288 with 2 Axes>"
      ]
     },
     "metadata": {
      "needs_background": "light"
     },
     "output_type": "display_data"
    }
   ],
   "source": [
    "for i in range(10):\n",
    "    show_side_by_side(x_test[i], results[i])"
   ]
  },
  {
   "cell_type": "markdown",
   "metadata": {},
   "source": [
    "## Saving the model"
   ]
  },
  {
   "cell_type": "code",
   "execution_count": 22,
   "metadata": {},
   "outputs": [],
   "source": [
    "model.save('mnist_autoencoder.h5')"
   ]
  }
 ],
 "metadata": {
  "kernelspec": {
   "display_name": "Python 3",
   "language": "python",
   "name": "python3"
  },
  "language_info": {
   "codemirror_mode": {
    "name": "ipython",
    "version": 3
   },
   "file_extension": ".py",
   "mimetype": "text/x-python",
   "name": "python",
   "nbconvert_exporter": "python",
   "pygments_lexer": "ipython3",
   "version": "3.6.6"
  }
 },
 "nbformat": 4,
 "nbformat_minor": 2
}
